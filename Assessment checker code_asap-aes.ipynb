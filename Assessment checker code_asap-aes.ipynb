{
 "cells": [
  {
   "cell_type": "code",
   "execution_count": 26,
   "metadata": {},
   "outputs": [],
   "source": [
    "import os\n",
    "import openai\n",
    "import docx2txt\n",
    "import time\n",
    "import pandas\n",
    "import docx\n",
    "import re\n",
    "# Set up OpenAI API credentials\n",
    "openai.api_key = \"API KEY HERE\"\n"
   ]
  },
  {
   "attachments": {},
   "cell_type": "markdown",
   "metadata": {},
   "source": [
    "# Function to apply GPT-3.5 model to a given text"
   ]
  },
  {
   "cell_type": "code",
   "execution_count": 27,
   "metadata": {},
   "outputs": [],
   "source": [
    "\n",
    "# Define function to apply GPT-3.5 model to a given text\n",
    "def generate_text(work, desc, rubrics):   \n",
    "    description = desc\n",
    "    rubrics=rubrics\n",
    "    text = work\n",
    "    instructor = \"\"\"a language instructor and assess the work of students. I will provide you the assignment description/task given to students. \n",
    "        Then,  I will provide the student's work and the rubrics. \n",
    "        Your task will be to assign points and comments against each rubric first. \n",
    "        Then, Please highlight words, sentences, or phrases where the student made mistakes or violated rubrics.\"\"\" \n",
    "    prompt_aspect = f\"\"\"Act as {instructor} \n",
    "        Assignment description: \n",
    "        {description};    \n",
    "        Rubrics:\n",
    "        {rubrics}; \n",
    "        Student Work: \n",
    "        {text}\"\"\"\n",
    "\n",
    "    try:\n",
    "        result_score_turbo = openai.ChatCompletion.create(\n",
    "        model=\"gpt-3.5-turbo\",\n",
    "        temperature=0.1, \n",
    "        messages=[\n",
    "            {\"role\": \"system\", \"content\": \"You are a helpful assistant that can assess student work and assign detailed feedback to students bu highlighting their mistakes or achievementso\"},\n",
    "            {\"role\": \"user\", \"content\": prompt_aspect},\n",
    "            ]\n",
    "        )\n",
    "        score_turbo = result_score_turbo.choices[0].message.content.strip()\n",
    "    except Exception as e:\n",
    "        score_turbo = str(e) \n",
    "    result = score_turbo    \n",
    "    # result = desc + rubrics+ text\n",
    "    return result\n",
    "\n"
   ]
  },
  {
   "attachments": {},
   "cell_type": "markdown",
   "metadata": {},
   "source": [
    "# Functions to read files"
   ]
  },
  {
   "cell_type": "code",
   "execution_count": 28,
   "metadata": {},
   "outputs": [],
   "source": [
    "# Define function to read text from a given Word file\n",
    "def read_word_file(filename):\n",
    "\n",
    "    # Open the Word file\n",
    "    doc = docx.Document(filename)\n",
    "\n",
    "    # Extract the text from the Word file\n",
    "    text = []\n",
    "    for paragraph in doc.paragraphs:\n",
    "        text.append(paragraph.text)\n",
    "\n",
    "    # Print the text from the Word file\n",
    "    return \"\\n\".join(text)\n",
    "\n",
    "# Define function to read text from a given PDF file\n",
    "def read_pdf_file(filename):\n",
    "    with open(filename, 'rb') as f:\n",
    "        reader = PyPDF2.PdfFileReader(f)\n",
    "        text = ''\n",
    "        for page in reader.pages:\n",
    "            text += page.extract_text()\n",
    "        return text\n",
    "\n"
   ]
  },
  {
   "attachments": {},
   "cell_type": "markdown",
   "metadata": {},
   "source": [
    "# Set essay id and Folder location"
   ]
  },
  {
   "cell_type": "code",
   "execution_count": 29,
   "metadata": {},
   "outputs": [],
   "source": [
    "essay_id = 5\n",
    "data_path = \"asap-aes/\""
   ]
  },
  {
   "attachments": {},
   "cell_type": "markdown",
   "metadata": {},
   "source": [
    "# Read Rubrics and Descriptions"
   ]
  },
  {
   "cell_type": "code",
   "execution_count": 30,
   "metadata": {},
   "outputs": [
    {
     "name": "stdout",
     "output_type": "stream",
     "text": [
      "Essay Set #5\n",
      "Source Essay\n",
      "Narciso Rodriguez\n",
      "from Home: The Blueprints of Our Lives\n",
      "My parents, originally from Cuba, arrived in the United States in 1956. After living for a year in a furnished one-room apartment, twenty-one-year-old Rawedia Maria and twenty-seven-year-old Narciso Rodriguez, Sr., could afford to move into a modest, three-room apartment I would soon call home.\n",
      "In 1961, I was born into this simple house, situated in a two-family, blond-brick building in the Ironbound section of Newark, New Jersey. Within its walls, my young parents created our traditional Cuban home, the very heart of which was the kitchen. My parents both shared cooking duties and unwittingly passed on to me their rich culinary skills and a love of cooking that is still with me today (and for which I am eternally grateful). Passionate Cuban music (which I adore to this day) filled the air, mixing with the aromas of the kitchen. Here, the innocence of childhood, the congregation of family and friends, and endless celebrations that encompassed both, formed the backdrop to life in our warm home.\n",
      "Growing up in this environment instilled in me a great sense that “family” had nothing to do with being a blood relative. Quite the contrary, our neighborhood was made up of mostly Spanish, Cuban, and Italian immigrants at a time when overt racism was the norm and segregation prevailed in the United States. In our neighborhood, despite customs elsewhere, all of these cultures came together in great solidarity and friendship. It was a close-knit community of honest, hardworking immigrants who extended a hand to people who, while not necessarily their own kind, were clearly in need.\n",
      "Our landlord and his daughter, Alegria (my babysitter and first friend), lived above us, and Alegria graced our kitchen table for meals more often than not. Also at the table were Sergio and Edelmira, my surrogate grandparents who lived in the basement apartment. (I would not know my “real” grandparents, Narciso the Elder and Consuelo, until 1970 when they were allowed to leave Cuba.) My aunts Bertha and Juanita and my cousins Arnold, Maria, and Rosemary also all lived nearby and regularly joined us at our table. Countless extended family members came and went — and there was often someone staying with us temporarily until they were able to get back on their feet. My parents always kept their arms and their door open to the many people we considered family, knowing that they would do the same for us.\n",
      "My mother and father had come to this country with such courage, without any knowledge of the language or the culture. They came selflessly, as many immigrants do, to give their children a better life, even though it meant leaving behind their families, friends, and careers in the country they loved. They struggled both personally and financially, braving the harsh northern winters while yearning for their native tropics and facing cultural hardships. The barriers to work were strong and high, and my parents both had to accept that they might not be able to find the kind of jobs they deserved. In Cuba, Narciso, Sr., had worked in a laboratory and Rawedia Maria had studied chemical engineering. In the United States, they had to start their lives over entirely, taking whatever work they could find. The faith that this struggle would lead them and their children to better times drove them to endure these hard times.\n",
      "I will always be grateful to my parents for their love and sacrifice. I’ve often told them that what they did was a much more courageous thing than I could have ever done. I’ve often told them of my admiration for their strength and perseverance, and I’ve thanked them repeatedly. But, in reality, there is no way to express my gratitude for the spirit of generosity impressed upon me at such an early age and the demonstration of how important family and friends are. These are two lessons that my parents did not just tell me. They showed me with their lives, and these teachings have been the basis of my life.\n",
      "It was in this simple house that my parents welcomed other refugees to celebrate their arrival to this country and where I celebrated my first birthdays. It was in the warmth of the kitchen in this humble house where a Cuban feast (albeit a frugal Cuban feast) always filled the air with not just scent and music but life and love. It was here where I learned the real definition of “family.” And for this, I will never forget that house or its gracious neighborhood or the many things I learned there about how to love. I will never forget how my parents turned this simple house into a home.\n",
      "— Narciso Rodriguez, Fashion designer\n",
      "Hometown: Newark, New Jersey\n",
      "“Narciso Rodriguez” by Narciso Rodriguez, from Home: The Blueprints of Our Lives. Copyright © 2006 by John Edwards.\n",
      "Prompt\n",
      "Describe the mood created by the author in the memoir. Support your answer with relevant and specific information from the memoir.\n",
      "\n"
     ]
    }
   ],
   "source": [
    "# desc = read_word_file(data_path+'Essay_Set_Descriptions/EssaySet'+str(essay_id)+'_Description.docx')\n",
    "# rubrics = read_word_file(data_path+'Essay_Set_Descriptions/EssaySet'+str(essay_id)+'_Rubrics.docx')\n",
    "prompt = read_word_file(data_path+'Essay_Set_Descriptions/Essay Set #'+str(essay_id)+'--ReadMeFirst.docx')\n",
    "prompt= prompt.split('Rubric Guidelines', 1)\n",
    "desc= prompt[0]\n",
    "rubrics= prompt[1]\n",
    "print(desc)"
   ]
  },
  {
   "cell_type": "code",
   "execution_count": 31,
   "metadata": {},
   "outputs": [
    {
     "name": "stdout",
     "output_type": "stream",
     "text": [
      "\n",
      "Score Point 4: The response is a clear, complete, and accurate description of the mood created by the author. The response includes relevant and specific information from the memoir.\n",
      " \n",
      "Score Point 3: The response is a mostly clear, complete, and accurate description of the mood created by the author. The response includes relevant but often general information from the memoir.\n",
      " \n",
      "Score Point 2: The response is a partial description of the mood created by the author. The response includes limited information from the memoir and may include misinterpretations.\n",
      " \n",
      "Score Point 1: The response is a minimal description of the mood created by the author. The response includes little or no information from the memoir and may include misinterpretations. \n",
      "OR \n",
      "The response relates minimally to the task.\n",
      "\n",
      "Score Point 0: The response is incorrect or irrelevant or contains insufficient information to demonstrate comprehension.\n",
      "Adjudication Rules\n",
      "For the specific set of data, if there was a difference between scorer 1 and scorer 2, the FINAL SCORE was always the higher of the two.\n"
     ]
    }
   ],
   "source": [
    "print(rubrics)"
   ]
  },
  {
   "attachments": {},
   "cell_type": "markdown",
   "metadata": {},
   "source": [
    "# Call the process_files function"
   ]
  },
  {
   "cell_type": "code",
   "execution_count": 32,
   "metadata": {},
   "outputs": [],
   "source": [
    "\n",
    "# Create a list of unique rubric names\n",
    "unique_rubrics = [\"Score\", \"Point\"]\n",
    "# Create a new dictionary for each unique rubric name to store the assessment results\n",
    "rubric_results = {rubric: [] for rubric in unique_rubrics}\n",
    "# df.head(5)\n",
    "keywords = [\"overall statement\", \"Comments\", \"Mistakes\"]\n",
    "results = {rubric: [] for rubric in keywords}\n",
    "feedback= []\n"
   ]
  },
  {
   "cell_type": "code",
   "execution_count": 33,
   "metadata": {},
   "outputs": [
    {
     "name": "stdout",
     "output_type": "stream",
     "text": [
      "1805\n",
      "0\n"
     ]
    },
    {
     "data": {
      "text/html": [
       "<div>\n",
       "<style scoped>\n",
       "    .dataframe tbody tr th:only-of-type {\n",
       "        vertical-align: middle;\n",
       "    }\n",
       "\n",
       "    .dataframe tbody tr th {\n",
       "        vertical-align: top;\n",
       "    }\n",
       "\n",
       "    .dataframe thead th {\n",
       "        text-align: right;\n",
       "    }\n",
       "</style>\n",
       "<table border=\"1\" class=\"dataframe\">\n",
       "  <thead>\n",
       "    <tr style=\"text-align: right;\">\n",
       "      <th></th>\n",
       "    </tr>\n",
       "  </thead>\n",
       "  <tbody>\n",
       "  </tbody>\n",
       "</table>\n",
       "</div>"
      ],
      "text/plain": [
       "Empty DataFrame\n",
       "Columns: []\n",
       "Index: []"
      ]
     },
     "execution_count": 33,
     "metadata": {},
     "output_type": "execute_result"
    }
   ],
   "source": [
    "import pandas as pd\n",
    "if(os.path.isfile(data_path+\"results_gpt/EssaySet\"+str(essay_id)+\"_assessment_results_by_rubric.csv\")):\n",
    "    temp = pd.read_csv(data_path+\"results_gpt/EssaySet\"+str(essay_id)+\"_assessment_results_by_rubric.csv\")\n",
    "else:\n",
    "    temp=[]\n",
    "print(len(temp))\n",
    "# Load the data from a CSV file\n",
    "df = pd.read_excel(data_path+\"training_set_rel3.xlsx\")\n",
    "df = df[df['essay_set'] == essay_id]\n",
    "df = df[len(temp):]\n",
    "df = df.dropna(axis=1, how='all')\n",
    "print(len(df))\n",
    "df.head(2)\n"
   ]
  },
  {
   "attachments": {},
   "cell_type": "markdown",
   "metadata": {},
   "source": []
  },
  {
   "cell_type": "code",
   "execution_count": 34,
   "metadata": {},
   "outputs": [],
   "source": [
    "jump=2\n",
    "for i in range(0, len(df), jump):\n",
    "    data = df[i:i+jump] \n",
    "    # Iterate over the rows in the data\n",
    "    for index, row in data.iterrows():\n",
    "\n",
    "        # Get the text to assess\n",
    "        text_to_assess = row[\"essay\"]    \n",
    "        print(text_to_assess)\n",
    "        # Apply the OpenAI model to the text to get the assessment result\n",
    "        assessment_result = generate_text(work= text_to_assess, desc=desc, rubrics=rubrics)\n",
    "        feedback.append(assessment_result)    \n",
    "        print(assessment_result)\n",
    "        # Extract the rubric values from the assessment result text\n",
    "        for rubric in unique_rubrics:\n",
    "            pattern = re.compile(rf\"(?i){rubric}\\D+(\\d+(\\.\\d+)?)\")\n",
    "            match = pattern.search(assessment_result)\n",
    "            print(match)\n",
    "            if match:\n",
    "                rubric_results[rubric].append(match.group(1))\n",
    "            else:\n",
    "                rubric_results[rubric].append(\"\")\n",
    "        for i in range(len(keywords)):\n",
    "            keyword = keywords[i]\n",
    "            pattern = re.compile(rf\"(?i)\\b{keyword}\\b(.+?)(?=\\b{keywords[i+1]}\\b|$)\" if i < len(keywords) - 1 else rf\"(?i)\\b{keyword}\\b(.+?$)\", re.DOTALL)\n",
    "            match = pattern.search(assessment_result)\n",
    "            if match:\n",
    "                results[keyword].append(match.group(1).strip())\n",
    "            else:\n",
    "                results[keyword].append(\"\")\n",
    "        time.sleep(20)            \n",
    "        print(rubric_results)\n",
    "\n",
    "    for rubric in unique_rubrics:\n",
    "        data[\"domain1_\"+rubric+\"_gpt\"] = rubric_results[rubric]\n",
    "    for keyword in keywords:\n",
    "        data[keyword+\"_gpt\"] = results[keyword]\n",
    "    data['Response_gpt'] = feedback\n",
    "    # Save the data with the rubric columns to a new CSV file\n",
    "    data.to_csv(data_path+\"results_gpt/EssaySet\"+str(essay_id)+\"_assessment_results_by_rubric.csv\", index = False, mode='a', header=False)\n",
    "    # data.to_csv(data_path+\"results_gpt/EssaySet\"+str(essay_id)+\"_assessment_results_by_rubric.csv\", index = False)\n",
    "    rubric_results = {rubric: [] for rubric in unique_rubrics}\n",
    "    results = {rubric: [] for rubric in keywords}\n",
    "    feedback=[]"
   ]
  },
  {
   "cell_type": "code",
   "execution_count": null,
   "metadata": {},
   "outputs": [],
   "source": []
  }
 ],
 "metadata": {
  "kernelspec": {
   "display_name": "Python 3 (ipykernel)",
   "language": "python",
   "name": "python3"
  },
  "language_info": {
   "codemirror_mode": {
    "name": "ipython",
    "version": 3
   },
   "file_extension": ".py",
   "mimetype": "text/x-python",
   "name": "python",
   "nbconvert_exporter": "python",
   "pygments_lexer": "ipython3",
   "version": "3.9.13"
  }
 },
 "nbformat": 4,
 "nbformat_minor": 2
}
